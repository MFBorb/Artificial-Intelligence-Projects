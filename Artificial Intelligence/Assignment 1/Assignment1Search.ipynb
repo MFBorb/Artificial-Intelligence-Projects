{
  "nbformat": 4,
  "nbformat_minor": 0,
  "metadata": {
    "colab": {
      "provenance": [],
      "gpuType": "T4"
    },
    "kernelspec": {
      "name": "python3",
      "display_name": "Python 3"
    },
    "language_info": {
      "name": "python"
    },
    "accelerator": "GPU"
  },
  "cells": [
    {
      "cell_type": "markdown",
      "source": [
        "# Import the Python libraries we can use by default:"
      ],
      "metadata": {
        "id": "Ew5Xg6bdgiz5"
      }
    },
    {
      "cell_type": "code",
      "execution_count": null,
      "metadata": {
        "id": "lMbSHnrqf4I1"
      },
      "outputs": [],
      "source": [
        "import numpy as np\n",
        "from collections import deque"
      ]
    },
    {
      "cell_type": "markdown",
      "source": [
        "# Definition for nodes, edges, and coordinates:"
      ],
      "metadata": {
        "id": "qqjBpZobAhq3"
      }
    },
    {
      "cell_type": "code",
      "source": [
        "# Class to support coordinates:\n",
        "class coordinate:\n",
        "  def __init__(self, x, y):\n",
        "    self.x = x\n",
        "    self.y = y\n",
        "\n",
        "# Class to support nodes:\n",
        "class node:\n",
        "    def __init__(self, id, coordinate):\n",
        "      self.id = id\n",
        "      self.coordinate = coordinate\n",
        "      self.visited = False\n",
        "      self.hValue = None\n",
        "      self.gValue = np.inf\n",
        "\n",
        "# Class to support edges:\n",
        "class edge:\n",
        "    def __init__(self, destination, weight):\n",
        "        self.destination = destination\n",
        "        self.weight = weight"
      ],
      "metadata": {
        "id": "Z1PbAN3eAk09"
      },
      "execution_count": null,
      "outputs": []
    },
    {
      "cell_type": "markdown",
      "source": [
        "# Global variable definitions"
      ],
      "metadata": {
        "id": "iRH1fI-tvFE5"
      }
    },
    {
      "cell_type": "code",
      "source": [
        "# Costly in memory as nodes go up, but helps immensely in quick access of between edge and node array\n",
        "nodeIDToCoordinateDict = {}\n",
        "\n",
        "# Global variables for starting and ending node\n",
        "startNode = None\n",
        "endNode = None"
      ],
      "metadata": {
        "id": "-NMo21ixvHgI"
      },
      "execution_count": null,
      "outputs": []
    },
    {
      "cell_type": "markdown",
      "source": [
        "# Main function:"
      ],
      "metadata": {
        "id": "lYOafp2xktKD"
      }
    },
    {
      "cell_type": "code",
      "source": [
        "def main():\n",
        "  # Get the user's test case, find the nodes from it, find the edges from it.\n",
        "  userTestCase = getTestCase()\n",
        "  nodeList = generateNodeList(userTestCase)\n",
        "  edgeDict = generateEdgeList(userTestCase)\n",
        "\n",
        "  # Run BFS, DFS, and A* algorithms\n",
        "  BFSVisitedList = BFS(nodeList, edgeDict)\n",
        "  print(\"BFS: \", end='')\n",
        "  print(BFSVisitedList)\n",
        "\n",
        "  resetAllNodes(nodeList)\n",
        "\n",
        "  DFSVisitedList = DFS(nodeList, edgeDict)\n",
        "  print(\"DFS: \", end='')\n",
        "  print(DFSVisitedList)\n",
        "\n",
        "  resetAllNodes(nodeList)\n",
        "\n",
        "  # A* has 3 different heuristics. Heuristic will be accepted as input in\n",
        "  # form of a number. Hard coded number but can be abstracted to a constant\n",
        "  # if needed.\n",
        "  for heuristicNum in range(1, 4):\n",
        "    AStarVisitedList = AStar(nodeList, edgeDict, heuristicNum)\n",
        "    print(\"A* with Heuristic \" + str(heuristicNum) + \": \", end='')\n",
        "    print(AStarVisitedList)\n",
        "\n",
        "    if heuristicNum != 3:\n",
        "      resetAllNodes(nodeList)\n",
        "      resetHAndGValues(nodeList)"
      ],
      "metadata": {
        "id": "dsvwf-zcpGSA"
      },
      "execution_count": null,
      "outputs": []
    },
    {
      "cell_type": "markdown",
      "source": [
        "# Test case retrieval and node/edge list generation:"
      ],
      "metadata": {
        "id": "lgJiW6j4Fbv7"
      }
    },
    {
      "cell_type": "code",
      "source": [
        "def getTestCase():\n",
        "  return input(\"What test file do you want to run (in the form XX)?: \")"
      ],
      "metadata": {
        "id": "OxCJwjTSFbG2"
      },
      "execution_count": null,
      "outputs": []
    },
    {
      "cell_type": "code",
      "source": [
        "def generateNodeList(testCase):\n",
        "  f = open(\"TestCase_\" + testCase +  \"_NodeID.csv\")\n",
        "\n",
        "  global nodeIDToCoordinateDict\n",
        "  global startNode\n",
        "  global endNode\n",
        "  nodeList = []\n",
        "\n",
        "  # Repeating code is sloppy, but I do it here as I want the start node\n",
        "  # alone without having a condition repeated in the following loop.\n",
        "  #\n",
        "  # Extract the starting node and add it into the node list\n",
        "  line = f.readline()\n",
        "  nodeInfo = line.split(sep=',')\n",
        "  nodeID = nodeInfo[0]\n",
        "  nodeX = int(nodeInfo[1])\n",
        "  nodeY = int(nodeInfo[2])\n",
        "  newCoord = coordinate(nodeX, nodeY)\n",
        "  newNode = node(nodeID, newCoord)\n",
        "\n",
        "  nodeIDToCoordinateDict[newNode.id] = newCoord\n",
        "\n",
        "  startNode = newNode\n",
        "\n",
        "  row = [newNode]\n",
        "  nodeList.append(row)\n",
        "\n",
        "  # Keep track of this so we know when to add a new line.\n",
        "  lastX = nodeX\n",
        "\n",
        "  for line in f:\n",
        "    # Extract node info from the current line\n",
        "    nodeInfo = line.split(sep=',')\n",
        "    nodeID = nodeInfo[0]\n",
        "    nodeX = int(nodeInfo[1])\n",
        "    nodeY = int(nodeInfo[2])\n",
        "\n",
        "    # Add a new row to the node list if we have moved up in X's\n",
        "    if (nodeX > lastX):\n",
        "        nodeList.append([])\n",
        "        lastX = nodeX\n",
        "\n",
        "    # Add the new node to its respective x array\n",
        "    newCoord = coordinate(nodeX, nodeY)\n",
        "    newNode = node(nodeID, newCoord)\n",
        "    nodeList[nodeX].append(newNode)\n",
        "\n",
        "    nodeIDToCoordinateDict[newNode.id] = newCoord\n",
        "\n",
        "  endNode = newNode\n",
        "\n",
        "  f.close()\n",
        "\n",
        "  return nodeList"
      ],
      "metadata": {
        "id": "JZEQtAouFyAU"
      },
      "execution_count": null,
      "outputs": []
    },
    {
      "cell_type": "code",
      "source": [
        "def generateEdgeList(testCase):\n",
        "  f = open(\"TestCase_\" + testCase +  \"_EdgeList.txt\")\n",
        "\n",
        "  # Edge list will be a dictionary/HashMap that'll contain the node's\n",
        "  # name as the key and a list of edges as the value. We'll use the dict that\n",
        "  # allows nodeID -> coordinate for references in the node array.\n",
        "  edgeDict = {}\n",
        "\n",
        "\n",
        "  for line in f:\n",
        "    # Extract edge info from the current line\n",
        "    edgeInfo = line.split(sep=',')\n",
        "    firstNode = edgeInfo[0]\n",
        "    secondNode = edgeInfo[1]\n",
        "    edgeWeight = float(edgeInfo[2])\n",
        "\n",
        "    # Add the nodes into the edge dict if they're not in there already\n",
        "    if firstNode not in edgeDict:\n",
        "      edgeDict[firstNode] = []\n",
        "\n",
        "    if secondNode not in edgeDict:\n",
        "      edgeDict[secondNode] = []\n",
        "\n",
        "    edgeDict.update(firstNode=edgeDict[firstNode].append(edge(secondNode, edgeWeight)))\n",
        "    edgeDict.update(secondNode=edgeDict[secondNode].append(edge(firstNode, edgeWeight)))\n",
        "\n",
        "  f.close()\n",
        "\n",
        "  return edgeDict"
      ],
      "metadata": {
        "id": "qlEjF4yWGOnS"
      },
      "execution_count": null,
      "outputs": []
    },
    {
      "cell_type": "markdown",
      "source": [
        "# BFS, DFS, and A* Functions:"
      ],
      "metadata": {
        "id": "UbrxnbBYHPDd"
      }
    },
    {
      "cell_type": "code",
      "source": [
        "def BFS(nodeList, edgeDict):\n",
        "  visitedList = []\n",
        "  global startNode\n",
        "  global endNode\n",
        "\n",
        "  # Set up the query and add the starting node to it.\n",
        "  frontierQuery = deque()\n",
        "  frontierQuery.append(startNode)\n",
        "\n",
        "  while (len(frontierQuery) != 0):\n",
        "    curNode = frontierQuery.popleft()\n",
        "    curNode.visited = True\n",
        "\n",
        "    visitedList.append(curNode.id)\n",
        "\n",
        "    if curNode == endNode:\n",
        "      return visitedList\n",
        "\n",
        "    neighbors = validNeighbors(curNode, nodeList, edgeDict)\n",
        "\n",
        "    # Luckily, none of the examples require this loop.\n",
        "    # However, if there is a cycle in the graph somewhere,\n",
        "    # such as 1 - 2 - 6 - 1, 6 will be added to the frontier\n",
        "    # for 1 and again for 2 (if order permits). We set the neighbors\n",
        "    # to visited so that it isn't picked up again by following calls\n",
        "    # to neighbors.\n",
        "    for neighbor in neighbors:\n",
        "      neighbor.visited = True\n",
        "\n",
        "    frontierQuery.extend(neighbors)\n",
        "\n",
        "  return visitedList"
      ],
      "metadata": {
        "id": "2JLLDnRqHVHs"
      },
      "execution_count": null,
      "outputs": []
    },
    {
      "cell_type": "code",
      "source": [
        "def DFS(nodeList, edgeDict):\n",
        "  visitedList = []\n",
        "  global startNode\n",
        "  global endNode\n",
        "\n",
        "  # Set up the stack and add the starting node to it.\n",
        "  frontierStack = []\n",
        "\n",
        "  startNode.visited = True\n",
        "  frontierStack.append(startNode)\n",
        "\n",
        "  # In lecture 6 notes, the frontier for DFS is shown by\n",
        "  # adding the elements to the front and removing from\n",
        "  # the front. I inverted this to achieve the same effect\n",
        "  # without the costly procedure of regular list deletion\n",
        "  # from the front.\n",
        "  while (len(frontierStack) != 0):\n",
        "    # Pop the last node added to the stack.\n",
        "    curNode = frontierStack.pop()\n",
        "\n",
        "    visitedList.append(curNode.id)\n",
        "\n",
        "    if curNode == endNode:\n",
        "      return visitedList\n",
        "\n",
        "    neighbors = validNeighbors(curNode, nodeList, edgeDict)\n",
        "\n",
        "    # Luckily, none of the examples require this loop.\n",
        "    # However, if there is a cycle in the graph somewhere,\n",
        "    # such as 1 - 2 - 6 - 1, 6 will be added to the frontier\n",
        "    # for 1 and again for 2 (if order permits). We set the neighbors\n",
        "    # to visited so that it isn't picked up again by following calls\n",
        "    # to neighbors.\n",
        "    for neighbor in neighbors:\n",
        "      neighbor.visited = True\n",
        "\n",
        "    frontierStack.extend(neighbors)\n",
        "\n",
        "  # Set up the stack and add the starting node to it.\n",
        "  return visitedList"
      ],
      "metadata": {
        "id": "fK_D-pnJHeNp"
      },
      "execution_count": null,
      "outputs": []
    },
    {
      "cell_type": "code",
      "source": [
        "def AStar(nodeList, edgeDict, heuristicNum):\n",
        "  visitedList = []\n",
        "\n",
        "  heuristic(nodeList, heuristicNum)\n",
        "\n",
        "  global startNode\n",
        "  global endNode\n",
        "\n",
        "  startNode.gValue = 0\n",
        "  frontierQuery = deque()\n",
        "  frontierQuery.append(startNode)\n",
        "\n",
        "  while(len(frontierQuery) != 0):\n",
        "    curNode = frontierQuery.popleft()\n",
        "    curNode.visited = True\n",
        "\n",
        "    visitedList.append(curNode.id)\n",
        "\n",
        "    if curNode == endNode:\n",
        "      return visitedList\n",
        "\n",
        "    neighbors = validNeighbors(curNode, nodeList, edgeDict)\n",
        "    costUpdate(curNode, neighbors, edgeDict)\n",
        "    addNeighborsToFrontier(neighbors, frontierQuery)\n",
        "\n",
        "\n",
        "  return visitedList"
      ],
      "metadata": {
        "id": "QY2hb1xLINDG"
      },
      "execution_count": null,
      "outputs": []
    },
    {
      "cell_type": "markdown",
      "source": [
        "Supporting functions:"
      ],
      "metadata": {
        "id": "pt33qGc-m1ah"
      }
    },
    {
      "cell_type": "code",
      "source": [
        "def validNeighbors(curNode, nodeList, edgeDict):\n",
        "  edgeList = edgeDict[curNode.id]\n",
        "  neighbors = []\n",
        "\n",
        "  # For each edge in the node's edge list, add it to neighbors\n",
        "  # if it has not been visited yet.\n",
        "  for edge in edgeList:\n",
        "    neighborNodeID = edge.destination\n",
        "\n",
        "    neighborNodeCoord = nodeIDToCoordinateDict[neighborNodeID]\n",
        "    neighborNode = nodeList[neighborNodeCoord.x][neighborNodeCoord.y]\n",
        "\n",
        "    if neighborNode.visited != True:\n",
        "      neighbors.append(neighborNode)\n",
        "\n",
        "  return neighbors"
      ],
      "metadata": {
        "id": "FxR1eFCXm03e"
      },
      "execution_count": null,
      "outputs": []
    },
    {
      "cell_type": "code",
      "source": [
        "# While this assignment only has edges of weight 1,\n",
        "# this is a generic cost update function that should\n",
        "# work for any weight.\n",
        "def costUpdate(curNode, neighbors, edgeDict):\n",
        "  edgeList = edgeDict[curNode.id]\n",
        "  neighborsToRemove = []\n",
        "\n",
        "  for neighbor in neighbors:\n",
        "\n",
        "    # Find the edge that the neighbor connects to\n",
        "    foundEdge = None\n",
        "\n",
        "    for edge in edgeList:\n",
        "      if edge.destination == neighbor.id:\n",
        "        foundEdge = edge\n",
        "\n",
        "    # Add the parent's g(n) with the weight of the edge\n",
        "    # to get the child's g(n). Since we might have visited\n",
        "    # this node before, we want to check if the current h(n)\n",
        "    # + g(n) value is less than the update.\n",
        "    newValue = curNode.gValue + foundEdge.weight\n",
        "\n",
        "    if (newValue < neighbor.gValue):\n",
        "      neighbor.gValue = newValue\n",
        "    else:\n",
        "      # If it is greater than, delete the node from neighbors as we\n",
        "      # won't need to try to add it to the frontier.\n",
        "      neighborsToRemove.append(neighbor)\n",
        "\n",
        "  # Remove it in this loop to not cause an element in\n",
        "  # the original loop to be skipped\n",
        "  for neighbor in neighborsToRemove:\n",
        "    neighbors.remove(neighbor)"
      ],
      "metadata": {
        "id": "ZgxXJi50C0OA"
      },
      "execution_count": null,
      "outputs": []
    },
    {
      "cell_type": "code",
      "source": [
        "# This function allows us to add neighbors to the frontier\n",
        "# in sorted order.\n",
        "def addNeighborsToFrontier(neighbors, frontier):\n",
        "  for neighbor in neighbors:\n",
        "\n",
        "    try:\n",
        "      neighborIndex = frontier.index(neighbor)\n",
        "    except ValueError:\n",
        "      frontier.append(neighbor)\n",
        "      neighborIndex = len(frontier) - 1\n",
        "\n",
        "    continueLoop = True\n",
        "\n",
        "    # Using a boolean condition here to not clog up the while\n",
        "    # loop condition with a long equation that is instead\n",
        "    # executed in the loop.\n",
        "    while (neighborIndex > 0 and continueLoop == True):\n",
        "      nodeBeforeNeighbor = frontier[neighborIndex - 1]\n",
        "      nodeBeforeNeighborValue = nodeBeforeNeighbor.gValue + nodeBeforeNeighbor.hValue\n",
        "\n",
        "      neighborValue = neighbor.gValue + neighbor.hValue\n",
        "\n",
        "      if (nodeBeforeNeighborValue > neighborValue):\n",
        "        frontier[neighborIndex - 1] = neighbor\n",
        "        frontier[neighborIndex] = nodeBeforeNeighbor\n",
        "\n",
        "        neighborIndex -= 1\n",
        "      else:\n",
        "        continueLoop = False"
      ],
      "metadata": {
        "id": "SL1-Hm6TN4Vn"
      },
      "execution_count": null,
      "outputs": []
    },
    {
      "cell_type": "markdown",
      "source": [
        "# Heuristic Function(s):"
      ],
      "metadata": {
        "id": "TFQGkrpaIfM5"
      }
    },
    {
      "cell_type": "code",
      "source": [
        "def heuristic(nodeList, heuristicNum):\n",
        "\n",
        "  global endNode\n",
        "\n",
        "  match heuristicNum:\n",
        "    # Heuristic 1: cost of 0\n",
        "    case 1:\n",
        "      for row in nodeList:\n",
        "        for node in row:\n",
        "          node.hValue = 0.0;\n",
        "\n",
        "      return\n",
        "\n",
        "    # Heuristic 2: Manhattan distance\n",
        "    case 2:\n",
        "      endX = endNode.coordinate.x\n",
        "      endY = endNode.coordinate.y\n",
        "\n",
        "      for row in nodeList:\n",
        "        for node in row:\n",
        "          nodeX = node.coordinate.x\n",
        "          nodeY = node.coordinate.y\n",
        "\n",
        "          node.hValue = abs(endX - nodeX) + abs(endY - nodeY)\n",
        "      return\n",
        "\n",
        "    # Heuristic 3: Chebyshev distance\n",
        "    case 3:\n",
        "      endX = endNode.coordinate.x\n",
        "      endY = endNode.coordinate.y\n",
        "\n",
        "      for row in nodeList:\n",
        "        for node in row:\n",
        "          nodeX = node.coordinate.x\n",
        "          nodeY = node.coordinate.y\n",
        "\n",
        "          node.hValue = max(abs(endX - nodeX), abs(endY - nodeY))\n",
        "      return\n",
        "\n",
        "    case _:\n",
        "      return"
      ],
      "metadata": {
        "id": "IM4y1AfoIpcy"
      },
      "execution_count": null,
      "outputs": []
    },
    {
      "cell_type": "markdown",
      "source": [
        "# Reset function"
      ],
      "metadata": {
        "id": "vIfncRs4gE6x"
      }
    },
    {
      "cell_type": "code",
      "source": [
        "def resetAllNodes(nodeList):\n",
        "  for x in range(len(nodeList)):\n",
        "    for y in range(len(nodeList[x])):\n",
        "      nodeList[x][y].visited = False"
      ],
      "metadata": {
        "id": "A-zKQsakgEmq"
      },
      "execution_count": null,
      "outputs": []
    },
    {
      "cell_type": "code",
      "source": [
        "def resetHAndGValues(nodeList):\n",
        "  for x in range(len(nodeList)):\n",
        "    for y in range(len(nodeList[x])):\n",
        "      nodeList[x][y].hValue = None\n",
        "      nodeList[x][y].gValue = np.inf"
      ],
      "metadata": {
        "id": "1m8IWSIWTxjS"
      },
      "execution_count": null,
      "outputs": []
    },
    {
      "cell_type": "markdown",
      "source": [
        "# Main function call:"
      ],
      "metadata": {
        "id": "oy2RjcyYHiz5"
      }
    },
    {
      "cell_type": "code",
      "source": [
        "main()"
      ],
      "metadata": {
        "colab": {
          "base_uri": "https://localhost:8080/"
        },
        "id": "14KHAqJjFGUT",
        "outputId": "7e0a9374-d007-440e-936a-44540f114924"
      },
      "execution_count": null,
      "outputs": [
        {
          "output_type": "stream",
          "name": "stdout",
          "text": [
            "What test file do you want to run (in the form XX)?: 03\n",
            "BFS: ['N_0', 'N_1', 'N_100', 'N_2', 'N_200', 'N_102', 'N_300', 'N_201', 'N_400', 'N_301', 'N_101', 'N_202', 'N_500', 'N_401', 'N_302', 'N_501', 'N_600', 'N_402', 'N_502', 'N_602', 'N_601', 'N_603', 'N_503', 'N_703', 'N_604', 'N_504', 'N_403', 'N_803', 'N_704', 'N_605', 'N_404', 'N_303', 'N_802', 'N_903', 'N_804', 'N_705', 'N_304', 'N_203', 'N_902', 'N_801', 'N_904', 'N_805', 'N_706', 'N_204', 'N_901', 'N_800', 'N_905', 'N_806', 'N_205', 'N_900', 'N_700', 'N_906', 'N_305', 'N_206', 'N_701', 'N_306', 'N_207', 'N_702', 'N_406', 'N_107', 'N_307', 'N_405', 'N_506', 'N_407', 'N_108', 'N_106', 'N_7', 'N_505', 'N_606', 'N_208', 'N_8', 'N_109', 'N_6', 'N_105', 'N_607', 'N_209', 'N_308', 'N_9', 'N_110', 'N_5', 'N_707', 'N_608', 'N_309', 'N_10', 'N_111', 'N_210', 'N_4', 'N_807', 'N_708', 'N_609', 'N_310', 'N_11', 'N_112', 'N_3', 'N_808', 'N_709', 'N_610', 'N_311', 'N_410', 'N_12', 'N_212', 'N_103', 'N_908', 'N_809', 'N_611', 'N_211', 'N_312', 'N_409', 'N_510', 'N_213', 'N_104', 'N_909', 'N_907', 'N_810', 'N_711', 'N_412', 'N_509', 'N_511', 'N_113', 'N_313', 'N_910', 'N_712', 'N_710', 'N_811', 'N_411', 'N_508', 'N_114', 'N_413', 'N_713', 'N_812', 'N_911', 'N_507', 'N_408', 'N_14', 'N_115', 'N_513', 'N_813', 'N_912', 'N_13', 'N_15', 'N_116', 'N_215', 'N_512', 'N_514', 'N_613', 'N_913', 'N_117', 'N_315', 'N_216', 'N_612', 'N_614', 'N_914', 'N_217', 'N_17', 'N_415', 'N_316', 'N_714', 'N_218', 'N_317', 'N_16', 'N_18', 'N_414', 'N_416', 'N_715', 'N_814', 'N_318', 'N_118', 'N_19', 'N_314', 'N_417', 'N_516', 'N_716', 'N_815', 'N_418', 'N_119', 'N_20', 'N_214', 'N_616', 'N_915', 'N_816', 'N_419', 'N_518', 'N_21', 'N_615', 'N_617', 'N_916', 'N_817', 'N_519', 'N_420', 'N_121', 'N_22', 'N_515', 'N_517', 'N_717', 'N_618', 'N_917', 'N_122', 'N_120', 'N_23', 'N_718', 'N_619', 'N_222', 'N_123', 'N_220', 'N_24', 'N_719', 'N_221', 'N_322', 'N_223', 'N_124', 'N_219', 'N_720', 'N_819', 'N_321', 'N_323', 'N_125', 'N_224', 'N_319', 'N_721', 'N_820', 'N_818', 'N_421', 'N_324', 'N_423', 'N_225', 'N_25', 'N_320', 'N_722', 'N_821', 'N_920', 'N_918', 'N_325', 'N_424', 'N_422', 'N_226', 'N_26', 'N_921', 'N_919', 'N_524', 'N_425', 'N_522', 'N_126', 'N_326', 'N_27', 'N_523', 'N_525', 'N_426', 'N_622', 'N_521', 'N_127', 'N_327', 'N_625', 'N_520', 'N_227', 'N_427', 'N_624', 'N_725', 'N_620', 'N_228', 'N_428', 'N_527', 'N_623', 'N_621', 'N_128', 'N_328', 'N_528', 'N_526', 'N_129', 'N_626', 'N_229', 'N_130', 'N_29', 'N_329', 'N_230', 'N_131', 'N_30', 'N_28', 'N_231', 'N_330', 'N_132', 'N_31', 'N_430', 'N_331', 'N_32', 'N_429', 'N_332', 'N_33', 'N_529', 'N_232', 'N_333', 'N_432', 'N_133', 'N_629', 'N_233', 'N_433', 'N_431', 'N_532', 'N_630', 'N_628', 'N_234', 'N_533', 'N_434', 'N_531', 'N_631', 'N_730', 'N_627', 'N_728', 'N_235', 'N_134', 'N_633', 'N_534', 'N_435', 'N_334', 'N_530', 'N_731', 'N_830', 'N_727', 'N_828', 'N_135', 'N_34', 'N_632', 'N_535', 'N_634', 'N_831', 'N_827', 'N_35', 'N_635', 'N_734', 'N_927', 'N_826', 'N_36', 'N_636', 'N_735', 'N_834', 'N_733', 'N_926', 'N_928', 'N_726', 'N_37', 'N_736', 'N_536', 'N_637', 'N_835', 'N_833', 'N_732', 'N_925', 'N_38', 'N_436', 'N_737', 'N_836', 'N_935', 'N_832', 'N_933', 'N_825', 'N_138', 'N_39', 'N_336', 'N_837', 'N_738', 'N_934', 'N_932', 'N_824', 'N_139', 'N_236', 'N_335', 'N_937', 'N_638', 'N_838', 'N_931', 'N_924', 'N_724', 'N_239', 'N_140', 'N_237', 'N_136', 'N_936', 'N_538', 'N_639', 'N_930', 'N_723', 'N_238', 'N_339', 'N_40', 'N_240', 'N_337', 'N_137', 'N_537', 'N_739', 'N_929', 'N_823', 'N_338', 'N_340', 'N_41', 'N_437', 'N_829', 'N_822', 'N_923', 'N_341', 'N_141', 'N_42', 'N_438', 'N_729', 'N_922', 'N_241', 'N_142', 'N_43', 'N_439', 'N_242', 'N_143', 'N_44', 'N_440', 'N_539', 'N_243', 'N_342', 'N_244', 'N_343', 'N_144', 'N_245', 'N_443', 'N_145', 'N_543', 'N_442', 'N_45', 'N_544', 'N_441', 'N_46', 'N_444', 'N_545', 'N_541', 'N_146', 'N_47', 'N_344', 'N_546', 'N_645', 'N_445', 'N_542', 'N_540', 'N_641', 'N_147', 'N_246', 'N_48', 'N_345', 'N_547', 'N_644', 'N_646', 'N_642', 'N_640', 'N_741', 'N_148', 'N_49', 'N_346', 'N_647', 'N_744', 'N_643', 'N_740', 'N_742', 'N_149', 'N_347', 'N_446', 'N_747', 'N_745', 'N_840', 'N_842', 'N_249', 'N_150', 'N_247', 'N_447', 'N_748', 'N_746', 'N_839', 'N_940', 'N_843', 'N_841', 'N_248', 'N_349', 'N_250', 'N_151', 'N_448', 'N_648', 'N_846', 'N_939', 'N_743', 'N_943', 'N_941', 'N_348', 'N_449', 'N_350', 'N_51', 'N_548', 'N_845', 'N_946', 'N_847', 'N_938', 'N_942', 'N_450', 'N_50', 'N_844', 'N_947', 'N_848', 'N_550', 'N_944', 'N_948', 'N_549', 'N_650', 'N_551', 'N_945', 'N_949', 'N_649', 'N_750', 'N_651', 'N_451', 'N_950', 'N_749', 'N_751', 'N_351', 'N_849', 'N_851', 'N_352', 'N_251', 'N_951', 'N_850', 'N_252', 'N_952', 'N_253', 'N_152', 'N_153', 'N_52', 'N_53', 'N_54', 'N_55', 'N_154', 'N_155', 'N_56', 'N_254', 'N_156', 'N_57', 'N_354', 'N_255', 'N_256', 'N_157', 'N_58', 'N_353', 'N_355', 'N_356', 'N_158', 'N_453', 'N_456', 'N_357', 'N_159', 'N_452', 'N_455', 'N_556', 'N_257', 'N_457', 'N_59', 'N_259', 'N_160', 'N_552', 'N_454', 'N_557', 'N_555', 'N_60', 'N_258', 'N_260', 'N_553', 'N_652', 'N_657', 'N_655', 'N_61', 'N_358', 'N_261', 'N_554', 'N_752', 'N_653', 'N_757', 'N_658', 'N_755', 'N_656', 'N_654', 'N_62', 'N_359', 'N_852', 'N_754', 'N_855', 'N_756', 'N_162', 'N_853', 'N_854', 'N_753', 'N_955', 'N_856', 'N_161', 'N_262', 'N_163', 'N_953', 'N_956', 'N_857', 'N_164', 'N_263', 'N_63', 'N_954', 'N_957', 'N_165', 'N_264', 'N_363', 'N_65', 'N_364', 'N_463', 'N_64', 'N_66', 'N_563', 'N_464', 'N_67', 'N_166', 'N_562', 'N_564', 'N_465', 'N_167', 'N_68', 'N_266', 'N_662', 'N_561', 'N_267', 'N_168', 'N_366', 'N_762', 'N_663', 'N_661', 'N_367', 'N_169', 'N_268', 'N_365', 'N_862', 'N_761', 'N_763', 'N_664', 'N_660', 'N_69', 'N_368', 'N_265', 'N_962', 'N_764', 'N_665', 'N_760', 'N_560', 'N_70', 'N_369', 'N_864', 'N_765', 'N_860', 'N_170', 'N_71', 'N_269', 'N_370', 'N_469', 'N_964', 'N_863', 'N_865', 'N_766', 'N_859', 'N_861', 'N_960', 'N_72', 'N_171', 'N_470', 'N_371', 'N_468', 'N_569', 'N_963', 'N_767', 'N_866', 'N_759', 'N_959', 'N_961', 'N_172', 'N_73', 'N_271', 'N_467', 'N_570', 'N_768', 'N_966', 'N_867', 'N_758', 'N_659', 'N_958', 'N_173', 'N_272', 'N_74', 'N_270', 'N_567', 'N_466', 'N_668', 'N_868', 'N_965', 'N_967', 'N_858', 'N_559', 'N_273', 'N_372', 'N_75', 'N_174', 'N_568', 'N_566', 'N_968', 'N_459', 'N_558', 'N_373', 'N_472', 'N_76', 'N_175', 'N_565', 'N_666', 'N_460', 'N_458', 'N_473', 'N_471', 'N_77', 'N_176', 'N_275', 'N_667', 'N_461', 'N_360', 'N_571', 'N_177', 'N_274', 'N_276', 'N_462', 'N_361', 'N_572', 'N_277', 'N_374', 'N_362', 'N_672', 'N_377', 'N_278', 'N_474', 'N_375', 'N_671', 'N_673', 'N_376', 'N_378', 'N_178', 'N_574', 'N_771', 'N_670', 'N_476', 'N_78', 'N_179', 'N_575', 'N_573', 'N_772', 'N_871', 'N_770', 'N_477', 'N_279', 'N_79', 'N_180', 'N_675', 'N_576', 'N_475', 'N_773', 'N_971', 'N_870', 'N_769', 'N_577', 'N_80', 'N_181', 'N_674', 'N_676', 'N_972', 'N_970', 'N_869', 'N_669', 'N_677', 'N_578', 'N_81', 'N_774', 'N_969', 'N_678', 'N_478', 'N_579', 'N_82', 'N_775', 'N_679', 'N_580', 'N_875', 'N_680', 'N_480', 'N_874', 'N_681', 'N_380', 'N_479', 'N_873', 'N_974', 'N_682', 'N_280', 'N_379', 'N_872', 'N_973', 'N_582', 'N_281', 'N_581', 'N_482', 'N_381', 'N_282', 'N_382', 'N_481', 'N_283', 'N_383', 'N_284', 'N_183', 'N_384', 'N_184', 'N_83', 'N_182', 'N_484', 'N_84', 'N_483', 'N_485', 'N_85', 'N_583', 'N_486', 'N_585', 'N_185', 'N_586', 'N_584', 'N_685', 'N_186', 'N_686', 'N_684', 'N_785', 'N_286', 'N_86', 'N_786', 'N_687', 'N_784', 'N_683', 'N_285', 'N_287', 'N_386', 'N_886', 'N_688', 'N_587', 'N_783', 'N_385', 'N_187', 'N_887', 'N_788', 'N_487', 'N_883', 'N_782', 'N_87', 'N_787', 'N_789', 'N_888', 'N_387', 'N_884', 'N_781', 'N_882', 'N_88', 'N_689', 'N_790', 'N_988', 'N_889', 'N_984', 'N_885', 'N_780', 'N_881', 'N_982', 'N_188', 'N_89', 'N_589', 'N_890', 'N_791', 'N_989', 'N_985', 'N_779', 'N_983', 'N_288', 'N_90', 'N_189', 'N_990', 'N_691', 'N_986', 'N_778', 'N_879', 'N_289', 'N_388', 'N_91', 'N_190', 'N_692', 'N_591', 'N_987', 'N_777', 'N_878', 'N_880', 'N_389', 'N_488', 'N_92', 'N_290', 'N_191', 'N_792', 'N_693', 'N_590', 'N_877', 'N_489', 'N_588', 'N_93', 'N_192', 'N_291', 'N_892', 'N_694', 'N_593', 'N_690', 'N_876', 'N_490', 'N_94', 'N_193', 'N_292', 'N_391', 'N_893', 'N_992', 'N_594', 'N_794', 'N_776', 'N_976', 'N_390', 'N_95', 'N_194', 'N_293', 'N_392', 'N_491', 'N_793', 'N_991', 'N_993', 'N_795', 'N_894', 'N_977', 'N_975', 'N_96', 'N_195', 'N_492', 'N_393', 'N_891', 'N_994', 'N_796', 'N_695', 'N_978', 'N_97', 'N_196', 'N_592', 'N_493', 'N_995', 'N_797', 'N_896', 'N_595', 'N_696', 'N_979', 'N_197', 'N_296', 'N_996', 'N_895', 'N_897', 'N_495', 'N_697', 'N_980', 'N_198', 'N_997', 'N_698', 'N_981', 'N_98', 'N_298', 'N_998', 'N_699', 'N_798', 'N_99', 'N_999']\n",
            "DFS: ['N_0', 'N_100', 'N_200', 'N_201', 'N_202', 'N_101', 'N_300', 'N_301', 'N_302', 'N_402', 'N_502', 'N_602', 'N_603', 'N_604', 'N_605', 'N_703', 'N_704', 'N_705', 'N_706', 'N_804', 'N_805', 'N_806', 'N_905', 'N_906', 'N_904', 'N_803', 'N_903', 'N_802', 'N_801', 'N_800', 'N_700', 'N_701', 'N_702', 'N_901', 'N_900', 'N_902', 'N_503', 'N_403', 'N_303', 'N_203', 'N_204', 'N_205', 'N_206', 'N_207', 'N_307', 'N_107', 'N_7', 'N_106', 'N_105', 'N_5', 'N_4', 'N_3', 'N_103', 'N_104', 'N_6', 'N_108', 'N_109', 'N_110', 'N_210', 'N_111', 'N_112', 'N_212', 'N_213', 'N_313', 'N_413', 'N_513', 'N_613', 'N_614', 'N_714', 'N_814', 'N_715', 'N_815', 'N_816', 'N_817', 'N_917', 'N_915', 'N_916', 'N_716', 'N_514', 'N_512', 'N_612', 'N_113', 'N_114', 'N_115', 'N_215', 'N_216', 'N_315', 'N_316', 'N_416', 'N_516', 'N_616', 'N_617', 'N_618', 'N_619', 'N_718', 'N_719', 'N_819', 'N_818', 'N_918', 'N_919', 'N_820', 'N_920', 'N_720', 'N_721', 'N_821', 'N_921', 'N_722', 'N_717', 'N_517', 'N_615', 'N_515', 'N_417', 'N_415', 'N_414', 'N_314', 'N_214', 'N_116', 'N_117', 'N_17', 'N_18', 'N_19', 'N_20', 'N_21', 'N_22', 'N_23', 'N_24', 'N_121', 'N_120', 'N_220', 'N_219', 'N_319', 'N_320', 'N_122', 'N_123', 'N_124', 'N_224', 'N_125', 'N_25', 'N_26', 'N_27', 'N_225', 'N_226', 'N_326', 'N_327', 'N_427', 'N_527', 'N_526', 'N_626', 'N_428', 'N_528', 'N_126', 'N_127', 'N_227', 'N_228', 'N_328', 'N_128', 'N_129', 'N_29', 'N_28', 'N_30', 'N_130', 'N_131', 'N_31', 'N_32', 'N_33', 'N_133', 'N_132', 'N_230', 'N_330', 'N_331', 'N_332', 'N_432', 'N_532', 'N_531', 'N_530', 'N_431', 'N_333', 'N_433', 'N_434', 'N_334', 'N_435', 'N_534', 'N_634', 'N_734', 'N_733', 'N_732', 'N_834', 'N_833', 'N_933', 'N_932', 'N_931', 'N_930', 'N_929', 'N_829', 'N_729', 'N_934', 'N_832', 'N_835', 'N_935', 'N_836', 'N_735', 'N_635', 'N_636', 'N_637', 'N_737', 'N_738', 'N_838', 'N_638', 'N_639', 'N_739', 'N_538', 'N_537', 'N_837', 'N_937', 'N_936', 'N_536', 'N_436', 'N_336', 'N_335', 'N_236', 'N_136', 'N_137', 'N_237', 'N_337', 'N_437', 'N_438', 'N_439', 'N_539', 'N_440', 'N_736', 'N_535', 'N_533', 'N_633', 'N_632', 'N_233', 'N_234', 'N_134', 'N_34', 'N_235', 'N_135', 'N_35', 'N_36', 'N_37', 'N_38', 'N_39', 'N_138', 'N_139', 'N_140', 'N_240', 'N_40', 'N_41', 'N_42', 'N_43', 'N_44', 'N_142', 'N_143', 'N_242', 'N_342', 'N_243', 'N_343', 'N_443', 'N_442', 'N_441', 'N_541', 'N_641', 'N_741', 'N_742', 'N_842', 'N_841', 'N_941', 'N_942', 'N_843', 'N_943', 'N_743', 'N_540', 'N_640', 'N_740', 'N_840', 'N_940', 'N_839', 'N_939', 'N_938', 'N_542', 'N_642', 'N_643', 'N_543', 'N_544', 'N_545', 'N_445', 'N_645', 'N_646', 'N_644', 'N_744', 'N_745', 'N_546', 'N_547', 'N_647', 'N_747', 'N_746', 'N_846', 'N_847', 'N_848', 'N_948', 'N_949', 'N_950', 'N_946', 'N_947', 'N_845', 'N_844', 'N_944', 'N_945', 'N_748', 'N_648', 'N_444', 'N_344', 'N_345', 'N_346', 'N_446', 'N_447', 'N_448', 'N_548', 'N_347', 'N_247', 'N_244', 'N_245', 'N_144', 'N_145', 'N_45', 'N_46', 'N_47', 'N_48', 'N_49', 'N_146', 'N_246', 'N_147', 'N_148', 'N_149', 'N_150', 'N_151', 'N_51', 'N_50', 'N_249', 'N_250', 'N_350', 'N_349', 'N_449', 'N_450', 'N_550', 'N_551', 'N_451', 'N_351', 'N_251', 'N_352', 'N_252', 'N_152', 'N_52', 'N_253', 'N_153', 'N_53', 'N_54', 'N_154', 'N_254', 'N_255', 'N_355', 'N_354', 'N_353', 'N_453', 'N_452', 'N_552', 'N_652', 'N_653', 'N_752', 'N_852', 'N_853', 'N_953', 'N_954', 'N_553', 'N_554', 'N_55', 'N_56', 'N_57', 'N_58', 'N_155', 'N_156', 'N_157', 'N_158', 'N_159', 'N_160', 'N_260', 'N_261', 'N_259', 'N_258', 'N_358', 'N_359', 'N_59', 'N_60', 'N_61', 'N_62', 'N_162', 'N_163', 'N_63', 'N_263', 'N_363', 'N_463', 'N_464', 'N_465', 'N_563', 'N_564', 'N_562', 'N_561', 'N_661', 'N_660', 'N_560', 'N_760', 'N_860', 'N_960', 'N_861', 'N_961', 'N_859', 'N_959', 'N_958', 'N_759', 'N_659', 'N_559', 'N_558', 'N_458', 'N_459', 'N_460', 'N_360', 'N_361', 'N_362', 'N_461', 'N_462', 'N_758', 'N_858', 'N_662', 'N_663', 'N_664', 'N_665', 'N_765', 'N_766', 'N_866', 'N_867', 'N_967', 'N_968', 'N_966', 'N_965', 'N_767', 'N_768', 'N_868', 'N_668', 'N_865', 'N_764', 'N_864', 'N_863', 'N_964', 'N_963', 'N_762', 'N_763', 'N_761', 'N_862', 'N_962', 'N_364', 'N_264', 'N_164', 'N_165', 'N_65', 'N_66', 'N_166', 'N_266', 'N_366', 'N_365', 'N_265', 'N_67', 'N_68', 'N_167', 'N_168', 'N_268', 'N_368', 'N_369', 'N_469', 'N_569', 'N_570', 'N_468', 'N_467', 'N_466', 'N_566', 'N_666', 'N_667', 'N_565', 'N_567', 'N_568', 'N_370', 'N_371', 'N_470', 'N_269', 'N_169', 'N_69', 'N_70', 'N_71', 'N_171', 'N_271', 'N_270', 'N_72', 'N_73', 'N_74', 'N_174', 'N_75', 'N_175', 'N_275', 'N_276', 'N_274', 'N_374', 'N_375', 'N_474', 'N_574', 'N_573', 'N_575', 'N_475', 'N_576', 'N_676', 'N_675', 'N_674', 'N_774', 'N_775', 'N_875', 'N_874', 'N_974', 'N_873', 'N_973', 'N_872', 'N_76', 'N_176', 'N_77', 'N_177', 'N_277', 'N_278', 'N_178', 'N_179', 'N_180', 'N_181', 'N_81', 'N_82', 'N_80', 'N_79', 'N_279', 'N_78', 'N_377', 'N_378', 'N_376', 'N_476', 'N_477', 'N_577', 'N_578', 'N_579', 'N_580', 'N_480', 'N_479', 'N_379', 'N_380', 'N_280', 'N_281', 'N_282', 'N_283', 'N_183', 'N_182', 'N_83', 'N_184', 'N_84', 'N_85', 'N_185', 'N_186', 'N_86', 'N_286', 'N_386', 'N_287', 'N_187', 'N_87', 'N_88', 'N_89', 'N_189', 'N_90', 'N_190', 'N_191', 'N_291', 'N_391', 'N_491', 'N_392', 'N_393', 'N_493', 'N_492', 'N_592', 'N_290', 'N_91', 'N_92', 'N_192', 'N_292', 'N_93', 'N_193', 'N_293', 'N_94', 'N_194', 'N_95', 'N_195', 'N_96', 'N_196', 'N_296', 'N_97', 'N_197', 'N_198', 'N_298', 'N_98', 'N_99', 'N_199', 'N_299', 'N_399', 'N_398', 'N_397', 'N_297', 'N_396', 'N_395', 'N_295', 'N_294', 'N_394', 'N_494', 'N_497', 'N_496', 'N_596', 'N_597', 'N_498', 'N_598', 'N_499', 'N_599', 'N_188', 'N_288', 'N_388', 'N_488', 'N_588', 'N_389', 'N_489', 'N_490', 'N_390', 'N_289', 'N_285', 'N_385', 'N_284', 'N_381', 'N_481', 'N_679', 'N_680', 'N_681', 'N_682', 'N_582', 'N_482', 'N_382', 'N_383', 'N_384', 'N_484', 'N_485', 'N_585', 'N_685', 'N_785', 'N_584', 'N_684', 'N_683', 'N_783', 'N_782', 'N_882', 'N_982', 'N_983', 'N_781', 'N_881', 'N_780', 'N_779', 'N_879', 'N_880', 'N_778', 'N_878', 'N_877', 'N_876', 'N_976', 'N_975', 'N_977', 'N_978', 'N_979', 'N_980', 'N_981', 'N_776', 'N_777', 'N_883', 'N_884', 'N_885', 'N_984', 'N_985', 'N_986', 'N_987', 'N_784', 'N_486', 'N_586', 'N_686', 'N_687', 'N_587', 'N_487', 'N_387', 'N_688', 'N_788', 'N_888', 'N_889', 'N_989', 'N_988', 'N_789', 'N_790', 'N_791', 'N_691', 'N_591', 'N_590', 'N_690', 'N_692', 'N_693', 'N_593', 'N_694', 'N_794', 'N_894', 'N_795', 'N_695', 'N_696', 'N_697', 'N_698', 'N_798', 'N_898', 'N_699', 'N_799', 'N_899', 'N_595', 'N_495', 'N_796', 'N_896', 'N_897', 'N_997', 'N_998', 'N_999']\n",
            "A* with Heuristic 1: ['N_0', 'N_1', 'N_100', 'N_2', 'N_200', 'N_102', 'N_300', 'N_201', 'N_400', 'N_301', 'N_101', 'N_202', 'N_500', 'N_401', 'N_302', 'N_501', 'N_600', 'N_402', 'N_502', 'N_602', 'N_601', 'N_603', 'N_503', 'N_703', 'N_604', 'N_504', 'N_403', 'N_803', 'N_704', 'N_605', 'N_404', 'N_303', 'N_802', 'N_903', 'N_804', 'N_705', 'N_304', 'N_203', 'N_902', 'N_801', 'N_904', 'N_805', 'N_706', 'N_204', 'N_901', 'N_800', 'N_905', 'N_806', 'N_205', 'N_900', 'N_700', 'N_906', 'N_305', 'N_206', 'N_701', 'N_306', 'N_207', 'N_702', 'N_406', 'N_107', 'N_307', 'N_405', 'N_506', 'N_407', 'N_108', 'N_106', 'N_7', 'N_505', 'N_606', 'N_208', 'N_8', 'N_109', 'N_6', 'N_105', 'N_607', 'N_209', 'N_308', 'N_9', 'N_110', 'N_5', 'N_707', 'N_608', 'N_309', 'N_10', 'N_111', 'N_210', 'N_4', 'N_807', 'N_708', 'N_609', 'N_310', 'N_11', 'N_112', 'N_3', 'N_808', 'N_709', 'N_610', 'N_311', 'N_410', 'N_12', 'N_212', 'N_103', 'N_908', 'N_809', 'N_611', 'N_211', 'N_312', 'N_409', 'N_510', 'N_213', 'N_104', 'N_909', 'N_907', 'N_810', 'N_711', 'N_412', 'N_509', 'N_511', 'N_113', 'N_313', 'N_910', 'N_712', 'N_710', 'N_811', 'N_411', 'N_508', 'N_114', 'N_413', 'N_713', 'N_812', 'N_911', 'N_507', 'N_408', 'N_14', 'N_115', 'N_513', 'N_813', 'N_912', 'N_13', 'N_15', 'N_116', 'N_215', 'N_512', 'N_514', 'N_613', 'N_913', 'N_117', 'N_315', 'N_216', 'N_612', 'N_614', 'N_914', 'N_217', 'N_17', 'N_415', 'N_316', 'N_714', 'N_218', 'N_317', 'N_16', 'N_18', 'N_414', 'N_416', 'N_715', 'N_814', 'N_318', 'N_118', 'N_19', 'N_314', 'N_417', 'N_516', 'N_716', 'N_815', 'N_418', 'N_119', 'N_20', 'N_214', 'N_616', 'N_915', 'N_816', 'N_419', 'N_518', 'N_21', 'N_615', 'N_617', 'N_916', 'N_817', 'N_519', 'N_420', 'N_121', 'N_22', 'N_515', 'N_517', 'N_717', 'N_618', 'N_917', 'N_122', 'N_120', 'N_23', 'N_718', 'N_619', 'N_222', 'N_123', 'N_220', 'N_24', 'N_719', 'N_221', 'N_322', 'N_223', 'N_124', 'N_219', 'N_720', 'N_819', 'N_321', 'N_323', 'N_125', 'N_224', 'N_319', 'N_721', 'N_820', 'N_818', 'N_421', 'N_324', 'N_423', 'N_225', 'N_25', 'N_320', 'N_722', 'N_821', 'N_920', 'N_918', 'N_325', 'N_424', 'N_422', 'N_226', 'N_26', 'N_921', 'N_919', 'N_524', 'N_425', 'N_522', 'N_126', 'N_326', 'N_27', 'N_523', 'N_525', 'N_426', 'N_622', 'N_521', 'N_127', 'N_327', 'N_625', 'N_520', 'N_227', 'N_427', 'N_624', 'N_725', 'N_620', 'N_228', 'N_428', 'N_527', 'N_623', 'N_621', 'N_128', 'N_328', 'N_528', 'N_526', 'N_129', 'N_626', 'N_229', 'N_130', 'N_29', 'N_329', 'N_230', 'N_131', 'N_30', 'N_28', 'N_231', 'N_330', 'N_132', 'N_31', 'N_430', 'N_331', 'N_32', 'N_429', 'N_332', 'N_33', 'N_529', 'N_232', 'N_333', 'N_432', 'N_133', 'N_629', 'N_233', 'N_433', 'N_431', 'N_532', 'N_630', 'N_628', 'N_234', 'N_533', 'N_434', 'N_531', 'N_631', 'N_730', 'N_627', 'N_728', 'N_235', 'N_134', 'N_633', 'N_534', 'N_435', 'N_334', 'N_530', 'N_731', 'N_830', 'N_727', 'N_828', 'N_135', 'N_34', 'N_632', 'N_535', 'N_634', 'N_831', 'N_827', 'N_35', 'N_635', 'N_734', 'N_927', 'N_826', 'N_36', 'N_636', 'N_735', 'N_834', 'N_733', 'N_926', 'N_928', 'N_726', 'N_37', 'N_736', 'N_536', 'N_637', 'N_835', 'N_833', 'N_732', 'N_925', 'N_38', 'N_436', 'N_737', 'N_836', 'N_935', 'N_832', 'N_933', 'N_825', 'N_138', 'N_39', 'N_336', 'N_837', 'N_738', 'N_934', 'N_932', 'N_824', 'N_139', 'N_236', 'N_335', 'N_937', 'N_638', 'N_838', 'N_931', 'N_924', 'N_724', 'N_239', 'N_140', 'N_237', 'N_136', 'N_936', 'N_538', 'N_639', 'N_930', 'N_723', 'N_238', 'N_339', 'N_40', 'N_240', 'N_337', 'N_137', 'N_537', 'N_739', 'N_929', 'N_823', 'N_338', 'N_340', 'N_41', 'N_437', 'N_829', 'N_822', 'N_923', 'N_341', 'N_141', 'N_42', 'N_438', 'N_729', 'N_922', 'N_241', 'N_142', 'N_43', 'N_439', 'N_242', 'N_143', 'N_44', 'N_440', 'N_539', 'N_243', 'N_342', 'N_244', 'N_343', 'N_144', 'N_245', 'N_443', 'N_145', 'N_543', 'N_442', 'N_45', 'N_544', 'N_441', 'N_46', 'N_444', 'N_545', 'N_541', 'N_146', 'N_47', 'N_344', 'N_546', 'N_645', 'N_445', 'N_542', 'N_540', 'N_641', 'N_147', 'N_246', 'N_48', 'N_345', 'N_547', 'N_644', 'N_646', 'N_642', 'N_640', 'N_741', 'N_148', 'N_49', 'N_346', 'N_647', 'N_744', 'N_643', 'N_740', 'N_742', 'N_149', 'N_347', 'N_446', 'N_747', 'N_745', 'N_840', 'N_842', 'N_249', 'N_150', 'N_247', 'N_447', 'N_748', 'N_746', 'N_839', 'N_940', 'N_843', 'N_841', 'N_248', 'N_349', 'N_250', 'N_151', 'N_448', 'N_648', 'N_846', 'N_939', 'N_743', 'N_943', 'N_941', 'N_348', 'N_449', 'N_350', 'N_51', 'N_548', 'N_845', 'N_946', 'N_847', 'N_938', 'N_942', 'N_450', 'N_50', 'N_844', 'N_947', 'N_848', 'N_550', 'N_944', 'N_948', 'N_549', 'N_650', 'N_551', 'N_945', 'N_949', 'N_649', 'N_750', 'N_651', 'N_451', 'N_950', 'N_749', 'N_751', 'N_351', 'N_849', 'N_851', 'N_352', 'N_251', 'N_951', 'N_850', 'N_252', 'N_952', 'N_253', 'N_152', 'N_153', 'N_52', 'N_53', 'N_54', 'N_55', 'N_154', 'N_155', 'N_56', 'N_254', 'N_156', 'N_57', 'N_354', 'N_255', 'N_256', 'N_157', 'N_58', 'N_353', 'N_355', 'N_356', 'N_158', 'N_453', 'N_456', 'N_357', 'N_159', 'N_452', 'N_455', 'N_556', 'N_257', 'N_457', 'N_59', 'N_259', 'N_160', 'N_552', 'N_454', 'N_557', 'N_555', 'N_60', 'N_258', 'N_260', 'N_553', 'N_652', 'N_657', 'N_655', 'N_61', 'N_358', 'N_261', 'N_554', 'N_752', 'N_653', 'N_757', 'N_658', 'N_755', 'N_656', 'N_654', 'N_62', 'N_359', 'N_852', 'N_754', 'N_855', 'N_756', 'N_162', 'N_853', 'N_854', 'N_753', 'N_955', 'N_856', 'N_161', 'N_262', 'N_163', 'N_953', 'N_956', 'N_857', 'N_164', 'N_263', 'N_63', 'N_954', 'N_957', 'N_165', 'N_264', 'N_363', 'N_65', 'N_364', 'N_463', 'N_64', 'N_66', 'N_563', 'N_464', 'N_67', 'N_166', 'N_562', 'N_564', 'N_465', 'N_167', 'N_68', 'N_266', 'N_662', 'N_561', 'N_267', 'N_168', 'N_366', 'N_762', 'N_663', 'N_661', 'N_367', 'N_169', 'N_268', 'N_365', 'N_862', 'N_761', 'N_763', 'N_664', 'N_660', 'N_69', 'N_368', 'N_265', 'N_962', 'N_764', 'N_665', 'N_760', 'N_560', 'N_70', 'N_369', 'N_864', 'N_765', 'N_860', 'N_170', 'N_71', 'N_269', 'N_370', 'N_469', 'N_964', 'N_863', 'N_865', 'N_766', 'N_859', 'N_861', 'N_960', 'N_72', 'N_171', 'N_470', 'N_371', 'N_468', 'N_569', 'N_963', 'N_767', 'N_866', 'N_759', 'N_959', 'N_961', 'N_172', 'N_73', 'N_271', 'N_467', 'N_570', 'N_768', 'N_966', 'N_867', 'N_758', 'N_659', 'N_958', 'N_173', 'N_272', 'N_74', 'N_270', 'N_567', 'N_466', 'N_668', 'N_868', 'N_965', 'N_967', 'N_858', 'N_559', 'N_273', 'N_372', 'N_75', 'N_174', 'N_568', 'N_566', 'N_968', 'N_459', 'N_558', 'N_373', 'N_472', 'N_76', 'N_175', 'N_565', 'N_666', 'N_460', 'N_458', 'N_473', 'N_471', 'N_77', 'N_176', 'N_275', 'N_667', 'N_461', 'N_360', 'N_571', 'N_177', 'N_274', 'N_276', 'N_462', 'N_361', 'N_572', 'N_277', 'N_374', 'N_362', 'N_672', 'N_377', 'N_278', 'N_474', 'N_375', 'N_671', 'N_673', 'N_376', 'N_378', 'N_178', 'N_574', 'N_771', 'N_670', 'N_476', 'N_78', 'N_179', 'N_575', 'N_573', 'N_772', 'N_871', 'N_770', 'N_477', 'N_279', 'N_79', 'N_180', 'N_675', 'N_576', 'N_475', 'N_773', 'N_971', 'N_870', 'N_769', 'N_577', 'N_80', 'N_181', 'N_674', 'N_676', 'N_972', 'N_970', 'N_869', 'N_669', 'N_677', 'N_578', 'N_81', 'N_774', 'N_969', 'N_678', 'N_478', 'N_579', 'N_82', 'N_775', 'N_679', 'N_580', 'N_875', 'N_680', 'N_480', 'N_874', 'N_681', 'N_380', 'N_479', 'N_873', 'N_974', 'N_682', 'N_280', 'N_379', 'N_872', 'N_973', 'N_582', 'N_281', 'N_581', 'N_482', 'N_381', 'N_282', 'N_382', 'N_481', 'N_283', 'N_383', 'N_284', 'N_183', 'N_384', 'N_184', 'N_83', 'N_182', 'N_484', 'N_84', 'N_483', 'N_485', 'N_85', 'N_583', 'N_486', 'N_585', 'N_185', 'N_586', 'N_584', 'N_685', 'N_186', 'N_686', 'N_684', 'N_785', 'N_286', 'N_86', 'N_786', 'N_687', 'N_784', 'N_683', 'N_285', 'N_287', 'N_386', 'N_886', 'N_688', 'N_587', 'N_783', 'N_385', 'N_187', 'N_887', 'N_788', 'N_487', 'N_883', 'N_782', 'N_87', 'N_787', 'N_789', 'N_888', 'N_387', 'N_884', 'N_781', 'N_882', 'N_88', 'N_689', 'N_790', 'N_988', 'N_889', 'N_984', 'N_885', 'N_780', 'N_881', 'N_982', 'N_188', 'N_89', 'N_589', 'N_890', 'N_791', 'N_989', 'N_985', 'N_779', 'N_983', 'N_288', 'N_90', 'N_189', 'N_990', 'N_691', 'N_986', 'N_778', 'N_879', 'N_289', 'N_388', 'N_91', 'N_190', 'N_692', 'N_591', 'N_987', 'N_777', 'N_878', 'N_880', 'N_389', 'N_488', 'N_92', 'N_290', 'N_191', 'N_792', 'N_693', 'N_590', 'N_877', 'N_489', 'N_588', 'N_93', 'N_192', 'N_291', 'N_892', 'N_694', 'N_593', 'N_690', 'N_876', 'N_490', 'N_94', 'N_193', 'N_292', 'N_391', 'N_893', 'N_992', 'N_594', 'N_794', 'N_776', 'N_976', 'N_390', 'N_95', 'N_194', 'N_293', 'N_392', 'N_491', 'N_793', 'N_991', 'N_993', 'N_795', 'N_894', 'N_977', 'N_975', 'N_96', 'N_195', 'N_492', 'N_393', 'N_891', 'N_994', 'N_796', 'N_695', 'N_978', 'N_97', 'N_196', 'N_592', 'N_493', 'N_995', 'N_797', 'N_896', 'N_595', 'N_696', 'N_979', 'N_197', 'N_296', 'N_996', 'N_895', 'N_897', 'N_495', 'N_697', 'N_980', 'N_198', 'N_997', 'N_698', 'N_981', 'N_98', 'N_298', 'N_998', 'N_699', 'N_798', 'N_99', 'N_999']\n",
            "A* with Heuristic 2: ['N_0', 'N_1', 'N_100', 'N_2', 'N_200', 'N_102', 'N_300', 'N_201', 'N_400', 'N_301', 'N_202', 'N_500', 'N_401', 'N_302', 'N_501', 'N_600', 'N_402', 'N_502', 'N_602', 'N_603', 'N_703', 'N_604', 'N_803', 'N_704', 'N_605', 'N_903', 'N_804', 'N_705', 'N_904', 'N_805', 'N_706', 'N_905', 'N_806', 'N_906', 'N_101', 'N_601', 'N_503', 'N_802', 'N_504', 'N_902', 'N_403', 'N_801', 'N_404', 'N_901', 'N_303', 'N_800', 'N_900', 'N_304', 'N_203', 'N_700', 'N_204', 'N_701', 'N_205', 'N_702', 'N_305', 'N_206', 'N_306', 'N_207', 'N_406', 'N_307', 'N_506', 'N_407', 'N_606', 'N_607', 'N_707', 'N_608', 'N_807', 'N_708', 'N_609', 'N_808', 'N_709', 'N_610', 'N_908', 'N_809', 'N_611', 'N_909', 'N_810', 'N_711', 'N_910', 'N_712', 'N_811', 'N_713', 'N_812', 'N_911', 'N_813', 'N_912', 'N_913', 'N_914', 'N_107', 'N_405', 'N_907', 'N_710', 'N_108', 'N_505', 'N_208', 'N_109', 'N_209', 'N_308', 'N_110', 'N_309', 'N_111', 'N_210', 'N_310', 'N_112', 'N_311', 'N_410', 'N_212', 'N_312', 'N_510', 'N_213', 'N_412', 'N_511', 'N_313', 'N_413', 'N_513', 'N_514', 'N_613', 'N_614', 'N_714', 'N_715', 'N_814', 'N_716', 'N_815', 'N_915', 'N_816', 'N_916', 'N_817', 'N_917', 'N_106', 'N_7', 'N_8', 'N_11', 'N_211', 'N_409', 'N_113', 'N_411', 'N_512', 'N_9', 'N_12', 'N_509', 'N_114', 'N_612', 'N_10', 'N_115', 'N_116', 'N_215', 'N_117', 'N_315', 'N_216', 'N_217', 'N_415', 'N_316', 'N_218', 'N_317', 'N_416', 'N_318', 'N_417', 'N_516', 'N_418', 'N_616', 'N_419', 'N_518', 'N_617', 'N_519', 'N_420', 'N_717', 'N_618', 'N_718', 'N_619', 'N_719', 'N_720', 'N_819', 'N_721', 'N_820', 'N_722', 'N_821', 'N_920', 'N_921', 'N_6', 'N_105', 'N_508', 'N_14', 'N_15', 'N_17', 'N_414', 'N_615', 'N_517', 'N_818', 'N_18', 'N_918', 'N_118', 'N_19', 'N_919', 'N_119', 'N_20', 'N_21', 'N_121', 'N_22', 'N_122', 'N_23', 'N_222', 'N_123', 'N_24', 'N_322', 'N_223', 'N_124', 'N_323', 'N_125', 'N_224', 'N_324', 'N_423', 'N_225', 'N_325', 'N_424', 'N_226', 'N_524', 'N_425', 'N_326', 'N_525', 'N_426', 'N_327', 'N_625', 'N_427', 'N_725', 'N_428', 'N_527', 'N_528', 'N_5', 'N_507', 'N_408', 'N_13', 'N_16', 'N_314', 'N_515', 'N_120', 'N_221', 'N_321', 'N_25', 'N_422', 'N_126', 'N_523', 'N_624', 'N_526', 'N_220', 'N_421', 'N_26', 'N_522', 'N_127', 'N_626', 'N_27', 'N_622', 'N_227', 'N_228', 'N_328', 'N_4', 'N_214', 'N_623', 'N_219', 'N_521', 'N_128', 'N_319', 'N_129', 'N_320', 'N_229', 'N_130', 'N_329', 'N_230', 'N_131', 'N_231', 'N_330', 'N_132', 'N_430', 'N_331', 'N_332', 'N_333', 'N_432', 'N_433', 'N_532', 'N_533', 'N_434', 'N_633', 'N_534', 'N_435', 'N_535', 'N_634', 'N_635', 'N_734', 'N_636', 'N_735', 'N_834', 'N_736', 'N_637', 'N_835', 'N_737', 'N_836', 'N_935', 'N_837', 'N_738', 'N_937', 'N_838', 'N_3', 'N_520', 'N_29', 'N_31', 'N_429', 'N_232', 'N_233', 'N_431', 'N_531', 'N_334', 'N_632', 'N_733', 'N_536', 'N_833', 'N_638', 'N_936', 'N_103', 'N_620', 'N_30', 'N_32', 'N_529', 'N_234', 'N_933', 'N_639', 'N_104', 'N_621', 'N_33', 'N_629', 'N_235', 'N_934', 'N_739', 'N_133', 'N_630', 'N_631', 'N_730', 'N_731', 'N_830', 'N_831', 'N_28', 'N_530', 'N_732', 'N_436', 'N_832', 'N_538', 'N_134', 'N_932', 'N_628', 'N_135', 'N_728', 'N_828', 'N_336', 'N_537', 'N_34', 'N_931', 'N_627', 'N_35', 'N_727', 'N_36', 'N_827', 'N_37', 'N_927', 'N_38', 'N_928', 'N_138', 'N_39', 'N_139', 'N_239', 'N_140', 'N_339', 'N_240', 'N_340', 'N_341', 'N_236', 'N_335', 'N_930', 'N_826', 'N_926', 'N_238', 'N_40', 'N_338', 'N_237', 'N_41', 'N_337', 'N_141', 'N_42', 'N_437', 'N_241', 'N_142', 'N_43', 'N_438', 'N_242', 'N_143', 'N_44', 'N_439', 'N_243', 'N_342', 'N_440', 'N_539', 'N_244', 'N_343', 'N_245', 'N_443', 'N_543', 'N_544', 'N_545', 'N_546', 'N_645', 'N_547', 'N_646', 'N_647', 'N_747', 'N_748', 'N_136', 'N_929', 'N_726', 'N_925', 'N_144', 'N_442', 'N_444', 'N_445', 'N_644', 'N_746', 'N_648', 'N_137', 'N_145', 'N_744', 'N_846', 'N_745', 'N_946', 'N_847', 'N_947', 'N_848', 'N_948', 'N_949', 'N_950', 'N_829', 'N_825', 'N_441', 'N_344', 'N_45', 'N_845', 'N_541', 'N_345', 'N_46', 'N_542', 'N_641', 'N_346', 'N_146', 'N_47', 'N_642', 'N_741', 'N_347', 'N_446', 'N_147', 'N_246', 'N_48', 'N_643', 'N_742', 'N_447', 'N_148', 'N_49', 'N_842', 'N_448', 'N_149', 'N_843', 'N_548', 'N_249', 'N_150', 'N_943', 'N_349', 'N_250', 'N_151', 'N_449', 'N_350', 'N_450', 'N_550', 'N_650', 'N_551', 'N_750', 'N_651', 'N_751', 'N_851', 'N_951', 'N_952', 'N_729', 'N_824', 'N_844', 'N_540', 'N_247', 'N_841', 'N_743', 'N_248', 'N_348', 'N_51', 'N_549', 'N_451', 'N_850', 'N_924', 'N_944', 'N_640', 'N_941', 'N_649', 'N_945', 'N_740', 'N_942', 'N_749', 'N_840', 'N_849', 'N_940', 'N_724', 'N_50', 'N_351', 'N_839', 'N_352', 'N_939', 'N_723', 'N_251', 'N_252', 'N_938', 'N_823', 'N_253', 'N_923', 'N_152', 'N_822', 'N_153', 'N_922', 'N_52', 'N_53', 'N_54', 'N_55', 'N_154', 'N_155', 'N_56', 'N_254', 'N_156', 'N_57', 'N_354', 'N_255', 'N_256', 'N_157', 'N_58', 'N_355', 'N_356', 'N_158', 'N_456', 'N_357', 'N_159', 'N_556', 'N_457', 'N_259', 'N_160', 'N_557', 'N_260', 'N_657', 'N_261', 'N_757', 'N_658', 'N_353', 'N_455', 'N_257', 'N_59', 'N_555', 'N_258', 'N_453', 'N_60', 'N_655', 'N_358', 'N_61', 'N_755', 'N_656', 'N_359', 'N_62', 'N_855', 'N_756', 'N_162', 'N_955', 'N_856', 'N_262', 'N_163', 'N_956', 'N_857', 'N_164', 'N_263', 'N_957', 'N_165', 'N_264', 'N_363', 'N_364', 'N_463', 'N_563', 'N_464', 'N_564', 'N_465', 'N_454', 'N_452', 'N_654', 'N_754', 'N_161', 'N_63', 'N_65', 'N_562', 'N_552', 'N_854', 'N_66', 'N_662', 'N_553', 'N_652', 'N_67', 'N_166', 'N_762', 'N_663', 'N_554', 'N_752', 'N_653', 'N_167', 'N_68', 'N_266', 'N_862', 'N_763', 'N_664', 'N_852', 'N_267', 'N_168', 'N_366', 'N_962', 'N_764', 'N_665', 'N_853', 'N_367', 'N_169', 'N_268', 'N_864', 'N_765', 'N_953', 'N_368', 'N_964', 'N_865', 'N_766', 'N_954', 'N_369', 'N_767', 'N_866', 'N_370', 'N_469', 'N_768', 'N_966', 'N_867', 'N_470', 'N_371', 'N_569', 'N_868', 'N_967', 'N_570', 'N_968', 'N_753', 'N_64', 'N_561', 'N_761', 'N_365', 'N_69', 'N_863', 'N_963', 'N_269', 'N_468', 'N_668', 'N_965', 'N_661', 'N_70', 'N_170', 'N_71', 'N_72', 'N_171', 'N_172', 'N_73', 'N_271', 'N_173', 'N_272', 'N_74', 'N_273', 'N_372', 'N_75', 'N_174', 'N_373', 'N_472', 'N_76', 'N_175', 'N_473', 'N_77', 'N_176', 'N_275', 'N_177', 'N_276', 'N_277', 'N_377', 'N_278', 'N_378', 'N_265', 'N_467', 'N_660', 'N_270', 'N_471', 'N_274', 'N_376', 'N_178', 'N_567', 'N_760', 'N_571', 'N_374', 'N_476', 'N_179', 'N_568', 'N_860', 'N_572', 'N_474', 'N_375', 'N_477', 'N_279', 'N_180', 'N_861', 'N_960', 'N_672', 'N_574', 'N_577', 'N_181', 'N_961', 'N_673', 'N_575', 'N_677', 'N_578', 'N_675', 'N_576', 'N_678', 'N_579', 'N_676', 'N_679', 'N_580', 'N_680', 'N_681', 'N_682', 'N_466', 'N_560', 'N_78', 'N_79', 'N_859', 'N_80', 'N_671', 'N_573', 'N_81', 'N_475', 'N_478', 'N_674', 'N_480', 'N_582', 'N_566', 'N_959', 'N_771', 'N_82', 'N_774', 'N_666', 'N_772', 'N_871', 'N_775', 'N_667', 'N_773', 'N_971', 'N_875', 'N_972', 'N_759', 'N_670', 'N_380', 'N_479', 'N_581', 'N_482', 'N_565', 'N_958', 'N_770', 'N_870', 'N_874', 'N_970', 'N_974', 'N_758', 'N_659', 'N_280', 'N_379', 'N_382', 'N_769', 'N_869', 'N_873', 'N_969', 'N_858', 'N_281', 'N_383', 'N_973', 'N_381', 'N_282', 'N_384', 'N_481', 'N_283', 'N_484', 'N_284', 'N_485', 'N_486', 'N_585', 'N_586', 'N_685', 'N_686', 'N_785', 'N_786', 'N_687', 'N_886', 'N_688', 'N_887', 'N_788', 'N_789', 'N_888', 'N_790', 'N_988', 'N_889', 'N_890', 'N_791', 'N_989', 'N_990', 'N_559', 'N_669', 'N_872', 'N_183', 'N_483', 'N_584', 'N_587', 'N_787', 'N_689', 'N_691', 'N_184', 'N_583', 'N_684', 'N_692', 'N_784', 'N_792', 'N_693', 'N_892', 'N_694', 'N_893', 'N_992', 'N_794', 'N_993', 'N_795', 'N_894', 'N_994', 'N_796', 'N_995', 'N_797', 'N_896', 'N_996', 'N_897', 'N_997', 'N_998', 'N_999']\n",
            "A* with Heuristic 3: ['N_0', 'N_1', 'N_2', 'N_100', 'N_102', 'N_200', 'N_201', 'N_202', 'N_300', 'N_101', 'N_301', 'N_302', 'N_400', 'N_402', 'N_401', 'N_500', 'N_502', 'N_501', 'N_600', 'N_602', 'N_603', 'N_604', 'N_605', 'N_503', 'N_703', 'N_504', 'N_704', 'N_705', 'N_706', 'N_601', 'N_403', 'N_803', 'N_404', 'N_804', 'N_805', 'N_806', 'N_303', 'N_903', 'N_904', 'N_905', 'N_304', 'N_906', 'N_802', 'N_203', 'N_204', 'N_205', 'N_206', 'N_207', 'N_902', 'N_305', 'N_306', 'N_107', 'N_307', 'N_108', 'N_109', 'N_110', 'N_111', 'N_112', 'N_801', 'N_406', 'N_7', 'N_208', 'N_8', 'N_210', 'N_11', 'N_212', 'N_407', 'N_209', 'N_9', 'N_12', 'N_213', 'N_10', 'N_106', 'N_901', 'N_506', 'N_308', 'N_309', 'N_113', 'N_313', 'N_310', 'N_114', 'N_311', 'N_115', 'N_312', 'N_116', 'N_117', 'N_800', 'N_405', 'N_6', 'N_606', 'N_413', 'N_410', 'N_14', 'N_211', 'N_15', 'N_215', 'N_412', 'N_217', 'N_17', 'N_607', 'N_216', 'N_218', 'N_18', 'N_608', 'N_19', 'N_609', 'N_20', 'N_610', 'N_21', 'N_611', 'N_22', 'N_23', 'N_24', 'N_105', 'N_900', 'N_700', 'N_505', 'N_513', 'N_510', 'N_315', 'N_317', 'N_707', 'N_118', 'N_708', 'N_121', 'N_711', 'N_701', 'N_514', 'N_511', 'N_316', 'N_318', 'N_119', 'N_709', 'N_122', 'N_712', 'N_702', 'N_123', 'N_713', 'N_124', 'N_125', 'N_409', 'N_13', 'N_411', 'N_16', 'N_5', 'N_613', 'N_415', 'N_807', 'N_808', 'N_811', 'N_416', 'N_418', 'N_222', 'N_812', 'N_223', 'N_813', 'N_224', 'N_225', 'N_25', 'N_614', 'N_809', 'N_417', 'N_419', 'N_226', 'N_26', 'N_810', 'N_420', 'N_27', 'N_512', 'N_120', 'N_710', 'N_509', 'N_908', 'N_911', 'N_516', 'N_518', 'N_322', 'N_912', 'N_714', 'N_519', 'N_126', 'N_326', 'N_909', 'N_323', 'N_913', 'N_715', 'N_127', 'N_327', 'N_910', 'N_324', 'N_914', 'N_716', 'N_325', 'N_4', 'N_414', 'N_221', 'N_612', 'N_220', 'N_616', 'N_814', 'N_423', 'N_815', 'N_227', 'N_427', 'N_617', 'N_424', 'N_816', 'N_228', 'N_428', 'N_618', 'N_425', 'N_817', 'N_619', 'N_426', 'N_508', 'N_907', 'N_321', 'N_314', 'N_915', 'N_527', 'N_517', 'N_717', 'N_524', 'N_128', 'N_328', 'N_528', 'N_718', 'N_917', 'N_916', 'N_525', 'N_129', 'N_719', 'N_130', 'N_720', 'N_131', 'N_721', 'N_132', 'N_722', 'N_3', 'N_219', 'N_615', 'N_422', 'N_408', 'N_421', 'N_214', 'N_625', 'N_229', 'N_29', 'N_819', 'N_230', 'N_31', 'N_821', 'N_30', 'N_820', 'N_231', 'N_32', 'N_33', 'N_507', 'N_526', 'N_523', 'N_103', 'N_319', 'N_515', 'N_522', 'N_725', 'N_329', 'N_330', 'N_921', 'N_920', 'N_133', 'N_104', 'N_320', 'N_331', 'N_332', 'N_333', 'N_624', 'N_28', 'N_818', 'N_626', 'N_622', 'N_430', 'N_232', 'N_432', 'N_233', 'N_433', 'N_234', 'N_434', 'N_235', 'N_435', 'N_521', 'N_918', 'N_532', 'N_533', 'N_134', 'N_534', 'N_334', 'N_135', 'N_919', 'N_535', 'N_623', 'N_429', 'N_431', 'N_633', 'N_34', 'N_634', 'N_35', 'N_635', 'N_36', 'N_636', 'N_37', 'N_637', 'N_38', 'N_39', 'N_520', 'N_531', 'N_529', 'N_734', 'N_736', 'N_536', 'N_737', 'N_138', 'N_735', 'N_738', 'N_139', 'N_140', 'N_632', 'N_620', 'N_629', 'N_834', 'N_436', 'N_837', 'N_638', 'N_838', 'N_239', 'N_40', 'N_240', 'N_621', 'N_630', 'N_835', 'N_639', 'N_41', 'N_631', 'N_836', 'N_42', 'N_43', 'N_44', 'N_530', 'N_733', 'N_336', 'N_937', 'N_538', 'N_339', 'N_730', 'N_935', 'N_739', 'N_141', 'N_731', 'N_142', 'N_340', 'N_143', 'N_341', 'N_628', 'N_833', 'N_238', 'N_236', 'N_830', 'N_241', 'N_831', 'N_242', 'N_237', 'N_243', 'N_244', 'N_245', 'N_732', 'N_335', 'N_936', 'N_537', 'N_338', 'N_728', 'N_933', 'N_136', 'N_342', 'N_337', 'N_343', 'N_144', 'N_934', 'N_137', 'N_145', 'N_627', 'N_832', 'N_828', 'N_437', 'N_443', 'N_45', 'N_438', 'N_46', 'N_439', 'N_47', 'N_440', 'N_48', 'N_49', 'N_932', 'N_727', 'N_543', 'N_146', 'N_539', 'N_544', 'N_147', 'N_545', 'N_148', 'N_546', 'N_149', 'N_547', 'N_150', 'N_151', 'N_442', 'N_827', 'N_246', 'N_444', 'N_645', 'N_445', 'N_249', 'N_647', 'N_51', 'N_646', 'N_250', 'N_931', 'N_927', 'N_344', 'N_349', 'N_747', 'N_350', 'N_928', 'N_345', 'N_748', 'N_346', 'N_347', 'N_441', 'N_826', 'N_644', 'N_248', 'N_50', 'N_449', 'N_648', 'N_446', 'N_247', 'N_450', 'N_447', 'N_448', 'N_930', 'N_926', 'N_348', 'N_746', 'N_541', 'N_726', 'N_744', 'N_550', 'N_548', 'N_542', 'N_745', 'N_551', 'N_846', 'N_641', 'N_650', 'N_642', 'N_451', 'N_847', 'N_651', 'N_643', 'N_848', 'N_929', 'N_925', 'N_540', 'N_549', 'N_946', 'N_741', 'N_750', 'N_351', 'N_751', 'N_948', 'N_947', 'N_742', 'N_352', 'N_949', 'N_950', 'N_845', 'N_829', 'N_825', 'N_640', 'N_649', 'N_251', 'N_851', 'N_842', 'N_252', 'N_843', 'N_253', 'N_729', 'N_740', 'N_749', 'N_951', 'N_152', 'N_743', 'N_943', 'N_153', 'N_952', 'N_844', 'N_824', 'N_850', 'N_841', 'N_840', 'N_849', 'N_52', 'N_53', 'N_54', 'N_55', 'N_56', 'N_57', 'N_58', 'N_944', 'N_924', 'N_724', 'N_941', 'N_940', 'N_154', 'N_155', 'N_945', 'N_942', 'N_156', 'N_157', 'N_158', 'N_159', 'N_160', 'N_839', 'N_254', 'N_256', 'N_59', 'N_259', 'N_260', 'N_255', 'N_60', 'N_261', 'N_61', 'N_62', 'N_723', 'N_939', 'N_354', 'N_356', 'N_355', 'N_162', 'N_357', 'N_163', 'N_164', 'N_165', 'N_258', 'N_823', 'N_456', 'N_262', 'N_257', 'N_457', 'N_263', 'N_63', 'N_65', 'N_264', 'N_66', 'N_67', 'N_68', 'N_938', 'N_353', 'N_161', 'N_358', 'N_923', 'N_556', 'N_363', 'N_166', 'N_167', 'N_359', 'N_557', 'N_364', 'N_168', 'N_169', 'N_822', 'N_455', 'N_64', 'N_453', 'N_463', 'N_266', 'N_267', 'N_657', 'N_268', 'N_69', 'N_464', 'N_658', 'N_70', 'N_465', 'N_71', 'N_72', 'N_73', 'N_74', 'N_75', 'N_76', 'N_77', 'N_555', 'N_922', 'N_563', 'N_366', 'N_367', 'N_757', 'N_368', 'N_170', 'N_171', 'N_172', 'N_174', 'N_175', 'N_176', 'N_177', 'N_564', 'N_369', 'N_173', 'N_370', 'N_371', 'N_454', 'N_452', 'N_655', 'N_271', 'N_272', 'N_275', 'N_277', 'N_269', 'N_469', 'N_273', 'N_470', 'N_656', 'N_276', 'N_278', 'N_562', 'N_365', 'N_552', 'N_755', 'N_372', 'N_377', 'N_569', 'N_373', 'N_756', 'N_178', 'N_553', 'N_378', 'N_570', 'N_179', 'N_554', 'N_180', 'N_181', 'N_654', 'N_270', 'N_274', 'N_468', 'N_662', 'N_265', 'N_652', 'N_855', 'N_472', 'N_473', 'N_856', 'N_78', 'N_279', 'N_79', 'N_80', 'N_81', 'N_663', 'N_653', 'N_857', 'N_82', 'N_664', 'N_665', 'N_561', 'N_754', 'N_376', 'N_374', 'N_762', 'N_752', 'N_955', 'N_764', 'N_765', 'N_375', 'N_763', 'N_956', 'N_766', 'N_957', 'N_767', 'N_768', 'N_467', 'N_471', 'N_661', 'N_854', 'N_476', 'N_474', 'N_862', 'N_852', 'N_864', 'N_865', 'N_866', 'N_668', 'N_868', 'N_477', 'N_853', 'N_867', 'N_753', 'N_761', 'N_567', 'N_571', 'N_574', 'N_962', 'N_964', 'N_966', 'N_577', 'N_953', 'N_967', 'N_568', 'N_572', 'N_575', 'N_578', 'N_954', 'N_968', 'N_576', 'N_579', 'N_580', 'N_466', 'N_660', 'N_863', 'N_677', 'N_672', 'N_675', 'N_475', 'N_478', 'N_676', 'N_679', 'N_480', 'N_678', 'N_673', 'N_680', 'N_681', 'N_682', 'N_573', 'N_963', 'N_965', 'N_566', 'N_760', 'N_560', 'N_380', 'N_582', 'N_671', 'N_674', 'N_479', 'N_666', 'N_860', 'N_280', 'N_482', 'N_667', 'N_861', 'N_281', 'N_282', 'N_283', 'N_284', 'N_565', 'N_581', 'N_771', 'N_774', 'N_379', 'N_960', 'N_382', 'N_961', 'N_381', 'N_183', 'N_772', 'N_775', 'N_383', 'N_184', 'N_773', 'N_384', 'N_670', 'N_859', 'N_871', 'N_481', 'N_83', 'N_875', 'N_84', 'N_484', 'N_85', 'N_485', 'N_486', 'N_770', 'N_182', 'N_759', 'N_959', 'N_971', 'N_185', 'N_585', 'N_586', 'N_972', 'N_186', 'N_870', 'N_874', 'N_483', 'N_659', 'N_685', 'N_686', 'N_286', 'N_86', 'N_687', 'N_287', 'N_688', 'N_769', 'N_758', 'N_958', 'N_584', 'N_970', 'N_974', 'N_583', 'N_559', 'N_785', 'N_786', 'N_386', 'N_587', 'N_187', 'N_788', 'N_789', 'N_790', 'N_791', 'N_869', 'N_873', 'N_285', 'N_669', 'N_858', 'N_684', 'N_459', 'N_886', 'N_487', 'N_87', 'N_888', 'N_689', 'N_890', 'N_691', 'N_460', 'N_887', 'N_88', 'N_889', 'N_692', 'N_461', 'N_89', 'N_693', 'N_462', 'N_90', 'N_694', 'N_969', 'N_558', 'N_787', 'N_973', 'N_385', 'N_784', 'N_387', 'N_988', 'N_589', 'N_990', 'N_591', 'N_360', 'N_188', 'N_989', 'N_792', 'N_189', 'N_593', 'N_91', 'N_190', 'N_594', 'N_794', 'N_361', 'N_191', 'N_795', 'N_362', 'N_796', 'N_797', 'N_872', 'N_683', 'N_458', 'N_288', 'N_892', 'N_92', 'N_290', 'N_894', 'N_291', 'N_695', 'N_896', 'N_289', 'N_893', 'N_192', 'N_696', 'N_897', 'N_292', 'N_590', 'N_783', 'N_388', 'N_992', 'N_93', 'N_391', 'N_595', 'N_793', 'N_697', 'N_997', 'N_389', 'N_993', 'N_193', 'N_392', 'N_998', 'N_994', 'N_293', 'N_393', 'N_999']\n"
          ]
        }
      ]
    },
    {
      "cell_type": "markdown",
      "source": [
        "# Assignment 1 Report:"
      ],
      "metadata": {
        "id": "pef670A48bGy"
      }
    },
    {
      "cell_type": "markdown",
      "source": [
        "# Design Choices:\n",
        "**User Input:**\n",
        "\n",
        "* User input assumes that the files exist in the content directory\n",
        "\n",
        "**Modules**:\n",
        "\n",
        "*   Numpy/Matplotlib: I am not experienced with either of these modules. I tried to leave the use of these to a minimum for now as I knew I could implement these algorithms without them. Numpy is only used for its definition of infinity.\n",
        "*   Collections: Collections is only imported for its deque implementation for performance reasons in the BFS and A* algorithms. Deque is designed to pop from the front and append onto the end in O(1) time. These algorithms can be implemented with regular python lists, but removing values from the front takes O(n) time. It is not used to shortcut any implementation for the algorithms themselves.\n",
        "\n",
        "\n",
        "**Node, Coordinate, and Edge Classes:**\n",
        "\n",
        "\n",
        "*   The \"node\" class serves as a easy way to store all of the information that we read in. Included in the class is the node's id, x and y, if it has been visited, and the h/g value for the A* algorithm. I decided to include the h/g value here to not complicate any implementation of the A* algorithm, such as included a new class that acts as a wrapper for the node and the h/g values.\n",
        "*   The \"coordinate\" class serves as a wrapper for the node's x and y coordinates. This was created for use in the global nodeIDToCoordinateDict.\n",
        "*   The \"edge\" class stores the destinate and weight of the nodes. I decided to only include the destination as I store all of the edges in a dict with the source node as a key.\n",
        "\n",
        "**Global Variables**\n",
        "\n",
        "*   I decided to use global variables for the startNode, endNode, and a dict for quick access between these nodes and quick conversion between nodes and coordinates. Using these global variables help to not clog up method variables, too.\n",
        "* The \"startNode\" and \"endNode\" global variables are used for quick access since these nodes are used in almost every algorithm and supporting method.\n",
        "* The \"nodeIDToCoordinateDict\" is used as a way for quick conversion between nodes and coordinates in the validNeighbors. I decided to use this as I couldn't think of an easy way for the edges to access the nodes.\n",
        "\n",
        "# Implementation Strategy:\n",
        "**Sectioning:**\n",
        "* The methods are separated based on their use. The sections include: main method, user input, algorithms, supporting methods, heuristic function, and reset functions.\n",
        "\n",
        "**User Input:**\n",
        "* I wanted to keep input simple, so the user only has to input the test case number.\n",
        "* The generate functions read in each line, then splice them by the commas.\n",
        "* The node generator function makes a node instance for each line then adds it into a 2D list.\n",
        "* The edge generator makes an edge instance for each line, then adds the edges into a dict where each key is a node id and each value is a list that contains the edges from that node.\n",
        "\n",
        "**BFS, DFS, and A Star Functions:**\n",
        "* These methods implement the frontier as different collections in order to keep track of which nodes to visit next. Once a node is removed from the frontier, it is not added back.\n",
        "* BFS was implemented using the deque as a queue. Nodes were inserted into the deque whenever they were found as valid neighbors. Valid neighbors were marked as visited so they are not added to the queue multiple times (which wasn't a problem for these test cases). Valid neighbors were then added to the end of the queue. This was in a while loop that repeated as long as there was a node still in the deque. Whenever we popped a node from the deque, we added its id to the visited list and returned that list if the node we popped was the end node.\n",
        "* DFS was implemented with the standard python list as a stack. It follows the same procedure as BFS except we pop nodes off the end of the stack (FILO order). We don't use a deque here as the standard python list will have the same/similar performance with this procedure. Since we don't add nodes to the frontier after we remove them, there is no actual backtracking, helping improve performance as we don't have to evaluate nodes we have already evaluated.\n",
        "* A* was implemented using the deque as a priority queue. We start by setting the h value for all the nodes with the heuristic function. A* follows the same procedure of BFS after this except we adjust the order of the deque based on the neighbors' g and h values in the costUpdate and addNeighborsToFrontier methods.\n",
        "\n",
        "**Supporting Methods:**\n",
        "* validNeighbors() takes the current node's edge list before looping through them to check if they have been visited. If they haven't, they are added to a list of valid neighbors that is returned once all of the edges have been evaluated.\n",
        "* costUpdate() takes the neighbor list and edge list to evaluate each neighbor's g value. To find the neighbor's g value, we take the current node's g value and add the edge's weight. If the neighbor's current g value is greater than this new g value, we update it. Otherwise, we remove the neighbor from the valid neighbor list since we have a better path to it.\n",
        "* addNeighborsToFrontier() attempts to add the neighbors to the frontier as a priority queue. It first finds the neighbor on the frontier or adds it to the end if the neighbor is not on the frontier already. We then shift the neighbor to the left as long as its f value (g+h) is less than the node before it on the queue. To shift, I had previously set 2 variables to copies of the node before the neighbor and the neighbor, so I set them equal to the opposite node.\n",
        "\n",
        "**Heuristics:**\n",
        "* Heuristics are implemented in a for loop that goes through each node to update the h value. The heuristic is chosen based on the heuristicNum input and they are stored in a match case. If the number inputted is not valid, the program will not be able to run since h values are None by default.\n",
        "\n",
        "**Reset Functions:**\n",
        "* These functions are a for loop that go through every node and reset their values to the default values of when they were created. The functions are split up as to only reset the h and g values whenever they are changed in the A* algorithm. This is to save computational time.\n",
        "\n",
        "# Heuristics:\n",
        "\n",
        "**Heuristic 1:**\n",
        "* This heuristic was to set each h value as 0. I chose this as a base line to see how A* ran in comparison to the uninformed search algorithms. This heuristic is admissible since there is no h* value that will be 0 other than the goal node's. This heuristic performed exactly the same as the implementation of BFS each time and returned the exact same visited list. I believe this is because all of the edge weights are 1, so there was never any readjusting of the frontier since they are added in a BFS manner.\n",
        "\n",
        "**Heuristic 2:**\n",
        "* This heuristic was the Manhattan distance of each node to the ending node. I decided on this one since the data only allowed for us to move to an adjacent provided there was an edge there. We would never move more than one room away. This heuristic would give an h value equal to the shortest path from the node to the ending node. Since it gives the value of taking the shortest path, it is guaranteed that it is an admissible heuristic given each edge have weights of >= 1  This heuristic was the best performing heuristic in every test case. It performed better than BFS in every test case, but only did better than DFS in 1 test case. I think this is because of a low number of test cases and randomness of DFS's performance depending on which neighbor is chosen. I believe that this heuristic would do better on average than DFS if we had more test cases.\n",
        "\n",
        "**Heuristic 3:**\n",
        "* This heuristic was the Chebyshev distance of each node to the ending node. I wanted to see if a method of distance similar to Manhattan but allowing for diagonal moves would increase performance. This heuristic was admissible. Each edge has a weight of 1. One move in Chebyshev distance would be equal to either 1 or 2 edges. The shortest path would either have a weight equal to or weight lower than the true shortest path. Similar to heuristic 2, this heuristic did better than BFS in all cases but only better than DFS in 1. Unlike heuristic 2, I think this would have similar performance to DFS in future test cases.\n",
        "\n",
        "# Comparison:\n",
        "\n",
        "**Steps for Test Case 01:**\n",
        "*   **BFS:** 25\n",
        "*   **DFS:** 14\n",
        "*   **A Star Heuristic 1**: 25\n",
        "*   **A Star Heuristic 2**: 15\n",
        "*   **A Star Heuristic 3**: 18\n",
        "\n",
        "**Steps for Test Case 02:**\n",
        "\n",
        "*   **BFS:** 74\n",
        "*   **DFS:** 65\n",
        "*   **A Star Heuristic 1**: 74\n",
        "*   **A Star Heuristic 2**: 38\n",
        "*   **A Star Heuristic 3**: 48\n",
        "\n",
        "**Steps for Test Case 03:**\n",
        "\n",
        "*   **BFS:** 977\n",
        "*   **DFS:** 741\n",
        "*   **A Star Heuristic 1**: 977\n",
        "*   **A Star Heuristic 2**: 857\n",
        "*   **A Star Heuristic 3**: 915\n",
        "\n",
        "Above are the steps of each algorithm for each test case. We can see that BFS and A* H1 had the same number of steps. We can also see that A* H2 and H3 did better than DFS in only 1 test cases. However, an average number would be a better measure of the efficiency of the algorithms. Below is an average percentage of nodes the algorithms visited between each test case:\n",
        "\n",
        "**Average Percentage of Nodes Visited:**\n",
        "*   **BFS:** 90.57%\n",
        "*   **DFS:** 65.03%\n",
        "*   **A Star Heuristic 1**: 90.57%\n",
        "*   **A Star Heuristic 2**: 61.23%\n",
        "*   **A Star Heuristic 3**: 70.5%\n",
        "\n",
        "If we look at these percentages, we can see that A* H2 visited on average the least amount of nodes followed by DFS and A* H3. I believe that any 3 of these algorithms would be suitable for a search algorithm, but A* H2 and A* H3 would be more scalable search algorithms."
      ],
      "metadata": {
        "id": "FDn5lveu8gI0"
      }
    }
  ]
}